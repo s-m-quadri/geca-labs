{
  "cells": [
    {
      "cell_type": "code",
      "execution_count": 5,
      "metadata": {
        "colab": {
          "base_uri": "https://localhost:8080/",
          "height": 839
        },
        "id": "ngpY8iYXVwH_",
        "outputId": "1bc57401-dcfd-4e47-dd78-df9b492e531c"
      },
      "outputs": [
        {
          "name": "stdout",
          "output_type": "stream",
          "text": [
            "Dataset saved to classification_data.csv\n",
            "Classification Model Evaluation:\n",
            "Accuracy: 0.69\n",
            "Precision: 0.30\n",
            "Recall: 1.00\n",
            "F1 Score: 0.46\n"
          ]
        },
        {
          "data": {
            "image/png": "[encoded data removed]",
            "text/plain": [
              "<Figure size 600x600 with 2 Axes>"
            ]
          },
          "metadata": {},
          "output_type": "display_data"
        },
        {
          "name": "stdout",
          "output_type": "stream",
          "text": [
            "Classification Report:\n",
            "              precision    recall  f1-score   support\n",
            "\n",
            "     No Rain       1.00      0.64      0.78        87\n",
            "        Rain       0.30      1.00      0.46        13\n",
            "\n",
            "    accuracy                           0.69       100\n",
            "   macro avg       0.65      0.82      0.62       100\n",
            "weighted avg       0.91      0.69      0.74       100\n",
            "\n"
          ]
        }
      ],
      "source": [
        "import pandas as pd\n",
        "import numpy as np\n",
        "import seaborn as sns\n",
        "import matplotlib.pyplot as plt\n",
        "from sklearn.metrics import classification_report\n",
        "from sklearn.model_selection import train_test_split\n",
        "from sklearn.metrics import accuracy_score, precision_score, recall_score, f1_score\n",
        "from sklearn.metrics import confusion_matrix\n",
        "\n",
        "from sklearn.cluster import KMeans\n",
        "\n",
        "# Set random seed for reproducibility\n",
        "np.random.seed(42)\n",
        "\n",
        "# Define dataset size\n",
        "num_samples = 500\n",
        "\n",
        "# Generate synthetic weather data\n",
        "temperature = np.random.uniform(15, 40, num_samples)  # Temperature in °C\n",
        "humidity = np.random.uniform(20, 100, num_samples)    # Humidity in percentage\n",
        "wind_speed = np.random.uniform(0, 25, num_samples)    # Wind Speed in km/h\n",
        "cloud_cover = np.random.uniform(0, 100, num_samples)  # Cloud Cover in percentage\n",
        "\n",
        "# Generate 'Rain' as target variable (0 for no rain, 1 for rain)\n",
        "# Rain is more likely if Humidity > 70 and CloudCover > 50\n",
        "rain = (humidity > 70) & (cloud_cover > 50)\n",
        "rain = rain.astype(int)\n",
        "\n",
        "# Create a DataFrame\n",
        "weather_data = pd.DataFrame({\n",
        "    'Temperature': temperature,\n",
        "    'Humidity': humidity,\n",
        "    'WindSpeed': wind_speed,\n",
        "    'CloudCover': cloud_cover,\n",
        "    'Rain': rain\n",
        "})\n",
        "\n",
        "# Save dataset to CSV\n",
        "file_path = \"classification_data.csv\"\n",
        "weather_data.to_csv(file_path, index=False)\n",
        "print(f\"Dataset saved to {file_path}\")\n",
        "\n",
        "# Display first few rows\n",
        "weather_data.head()\n",
        "\n",
        "# Load dataset\n",
        "weather_data = pd.read_csv(\"classification_data.csv\")\n",
        "\n",
        "# Prepare the data\n",
        "X = weather_data[['Temperature', 'Humidity', 'WindSpeed', 'CloudCover']]  # Features\n",
        "y = weather_data['Rain']  # Target variable\n",
        "\n",
        "# Split the data into training and testing sets\n",
        "X_train, X_test, y_train, y_test = train_test_split(X, y, test_size=0.2, random_state=42)\n",
        "\n",
        "# Initialize and train the model\n",
        "model = KMeans(n_clusters=2)\n",
        "model.fit(X_train, y_train)\n",
        "\n",
        "# Make predictions on the test set\n",
        "y_pred = model.predict(X_test)\n",
        "\n",
        "# Evaluate model\n",
        "accuracy = accuracy_score(y_test, y_pred)\n",
        "precision = precision_score(y_test, y_pred)\n",
        "recall = recall_score(y_test, y_pred)\n",
        "f1 = f1_score(y_test, y_pred)\n",
        "\n",
        "# Display metrics\n",
        "print(\"Classification Model Evaluation:\")\n",
        "print(f\"Accuracy: {accuracy:.2f}\")\n",
        "print(f\"Precision: {precision:.2f}\")\n",
        "print(f\"Recall: {recall:.2f}\")\n",
        "print(f\"F1 Score: {f1:.2f}\")\n",
        "\n",
        "# Compute confusion matrix\n",
        "cm = confusion_matrix(y_test, y_pred)\n",
        "\n",
        "# Plot confusion matrix\n",
        "plt.figure(figsize=(6, 6))\n",
        "sns.heatmap(cm, annot=True, fmt=\"d\", cmap=\"Blues\", xticklabels=[\"No Rain\", \"Rain\"], yticklabels=[\"No Rain\", \"Rain\"])\n",
        "plt.title(\"Confusion Matrix\")\n",
        "plt.xlabel(\"Predicted\")\n",
        "plt.ylabel(\"Actual\")\n",
        "plt.show()\n",
        "\n",
        "# Generate classification report\n",
        "report = classification_report(y_test, y_pred, target_names=[\"No Rain\", \"Rain\"])\n",
        "print(\"Classification Report:\")\n",
        "print(report)"
      ]
    }
  ],
  "metadata": {
    "colab": {
      "provenance": []
    },
    "kernelspec": {
      "display_name": ".venv",
      "language": "python",
      "name": "python3"
    },
    "language_info": {
      "codemirror_mode": {
        "name": "ipython",
        "version": 3
      },
      "file_extension": ".py",
      "mimetype": "text/x-python",
      "name": "python",
      "nbconvert_exporter": "python",
      "pygments_lexer": "ipython3",
      "version": "3.12.6"
    }
  },
  "nbformat": 4,
  "nbformat_minor": 0
}
